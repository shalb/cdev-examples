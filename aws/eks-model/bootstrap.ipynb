{
 "cells": [
  {
   "cell_type": "markdown",
   "metadata": {},
   "source": [
    "# Create Kubernetes cluster and deploy HF model"
   ]
  },
  {
   "cell_type": "markdown",
   "metadata": {},
   "source": [
    "## Reference article\n",
    "https://getindata.com/blog/deploy-open-source-llm-private-cluster-hugging-face-gke-autopilot/\n",
    "\n",
    "## Prerequisites\n",
    "git-lfs\n",
    "100 GB of free space on disk"
   ]
  },
  {
   "cell_type": "code",
   "execution_count": null,
   "metadata": {},
   "outputs": [],
   "source": [
    "## Setting required env variables\n",
    "\n",
    "%env S3_BUCKET_NAME=k8s-model-zephyr\n",
    "%env REGION=eu-central-1\n",
    "%env HF_MODEL_PATH=HuggingFaceH4/zephyr-7b-alpha\n",
    "%env HF_MODEL_NAME=zephyr-7b-alpha\n",
    "%env LOCAL_DIRECTORY=/data-tst/home/voa/projects/k8s-model\n",
    "%env AWS_PROFILE voatsap-cluster-dev"
   ]
  },
  {
   "cell_type": "code",
   "execution_count": null,
   "metadata": {},
   "outputs": [],
   "source": [
    "# clone model to local folder and upload to s3 bucket\n",
    "!cd $LOCAL_DIRECTORY\n",
    "!git lfs clone --depth=1 https://huggingface.co/$HF_MODEL_PATH\n",
    "!aws s3 mb s3://$S3_BUCKET_NAME --region $REGION"
   ]
  },
  {
   "cell_type": "code",
   "execution_count": null,
   "metadata": {},
   "outputs": [],
   "source": [
    "# copy HF model to s3 bucket\n",
    "!aws s3 sync $LOCAL_DIRECTORY/$HF_MODEL_NAME s3://$S3_BUCKET_NAME/llm/deployment/$HF_MODEL_NAME --exclude \"*.git/*\""
   ]
  },
  {
   "cell_type": "code",
   "execution_count": null,
   "metadata": {},
   "outputs": [],
   "source": [
    "# bootstrap cluster\n",
    "!cd cluster.dev\n",
    "!cdev apply"
   ]
  },
  {
   "cell_type": "code",
   "execution_count": null,
   "metadata": {},
   "outputs": [],
   "source": [
    "# install nvidia drivers\n",
    "!kubectl apply -f https://raw.githubusercontent.com/NVIDIA/k8s-device-plugin/main/nvidia-device-plugin.yml"
   ]
  },
  {
   "cell_type": "code",
   "execution_count": null,
   "metadata": {},
   "outputs": [],
   "source": [
    "# deploy model files\n",
    "!kubectl apply -f ../kubernetes/model/deployment.yaml\n",
    "\n",
    "# port forward model service\n",
    "!kubectl port-forward svc/zephyr-7b-alpha-service  8081:8080\n",
    "\n",
    "!curl 127.0.0.1:8081/generate \\\n",
    "    -X POST \\\n",
    "    -d '{\"inputs\":\"Continue funny story: John decide to stick finger into outlet\",\"parameters\":{\"max_new_tokens\":2000}}' \\\n",
    "    -H 'Content-Type: application/json'"
   ]
  }
 ],
 "metadata": {
  "kernelspec": {
   "display_name": "Python 3",
   "language": "python",
   "name": "python3"
  },
  "language_info": {
   "codemirror_mode": {
    "name": "ipython",
    "version": 3
   },
   "file_extension": ".py",
   "mimetype": "text/x-python",
   "name": "python",
   "nbconvert_exporter": "python",
   "pygments_lexer": "ipython3",
   "version": "3.10.12"
  }
 },
 "nbformat": 4,
 "nbformat_minor": 2
}
