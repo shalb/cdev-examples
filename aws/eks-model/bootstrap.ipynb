{
 "cells": [
  {
   "cell_type": "markdown",
   "metadata": {},
   "source": [
    "# Create Kubernetes cluster and deploy HF model"
   ]
  },
  {
   "cell_type": "markdown",
   "metadata": {},
   "source": [
    "## Reference article\n",
    "https://getindata.com/blog/deploy-open-source-llm-private-cluster-hugging-face-gke-autopilot/\n",
    "\n",
    "## Prerequisites\n",
    "- git-lfs installed to clone repo to s3\n",
    "- 100 GB of free space on local disk"
   ]
  },
  {
   "cell_type": "markdown",
   "metadata": {},
   "source": [
    "## Preparing model files\n",
    "We would download model locally and then move it files to aws s3 bucket to be mounted by model container."
   ]
  },
  {
   "cell_type": "code",
   "execution_count": 2,
   "metadata": {},
   "outputs": [
    {
     "name": "stdout",
     "output_type": "stream",
     "text": [
      "env: S3_BUCKET_NAME=k8s-model-zephyr\n",
      "env: REGION=eu-central-1\n",
      "env: HF_MODEL_PATH=HuggingFaceH4/zephyr-7b-beta\n",
      "env: HF_MODEL_NAME=zephyr-7b-beta\n",
      "env: LOCAL_DIRECTORY=/data-tst/home/voa/projects/k8s-model\n",
      "env: AWS_PROFILE=voatsap-cluster-dev\n"
     ]
    }
   ],
   "source": [
    "## Setting required env variables\n",
    "\n",
    "%env S3_BUCKET_NAME=k8s-model-zephyr\n",
    "%env REGION=eu-central-1\n",
    "%env HF_MODEL_PATH=HuggingFaceH4/zephyr-7b-beta\n",
    "%env HF_MODEL_NAME=zephyr-7b-beta\n",
    "%env LOCAL_DIRECTORY=/data-tst/home/voa/projects/k8s-model\n",
    "%env AWS_PROFILE voatsap-cluster-dev"
   ]
  },
  {
   "cell_type": "code",
   "execution_count": 6,
   "metadata": {},
   "outputs": [
    {
     "name": "stdout",
     "output_type": "stream",
     "text": [
      "WARNING: 'git lfs clone' is deprecated and will not be updated\n",
      "          with new flags from 'git clone'\n",
      "\n",
      "'git clone' has been updated in upstream Git to have comparable\n",
      "speeds to 'git lfs clone'.\n",
      "Cloning into '/data-tst/home/voa/projects/k8s-model/zephyr-7b-beta'...\n"
     ]
    },
    {
     "name": "stdout",
     "output_type": "stream",
     "text": [
      "remote: Enumerating objects: 25, done.\u001b[K\n",
      "remote: Counting objects: 100% (25/25), done.\u001b[K\n",
      "remote: Compressing objects: 100% (23/23), done.\u001b[K\n",
      "remote: Total 25 (delta 1), reused 21 (delta 1), pack-reused 0\u001b[K\n",
      "Unpacking objects: 100% (25/25), 531.75 KiB | 1.50 MiB/s, done.\n",
      "make_bucket failed: s3://k8s-model-zephyr An error occurred (BucketAlreadyOwnedByYou) when calling the CreateBucket operation: Your previous request to create the named bucket succeeded and you already own it.\n"
     ]
    }
   ],
   "source": [
    "# clone model to local folder and upload to s3 bucket\n",
    "# this takes in my env(gigabit internet connection) ~9 min for clone and 6 min to upload\n",
    "\n",
    "!mkdir $LOCAL_DIRECTORY/$HF_MODEL_NAME\n",
    "!git lfs clone --depth=1 https://huggingface.co/$HF_MODEL_PATH $LOCAL_DIRECTORY/$HF_MODEL_NAME\n",
    "!aws s3 mb s3://$S3_BUCKET_NAME --region $REGION || true\n",
    "!aws s3 sync $LOCAL_DIRECTORY/$HF_MODEL_NAME s3://$S3_BUCKET_NAME/llm/deployment/$HF_MODEL_NAME --exclude \"*.git/*\""
   ]
  },
  {
   "cell_type": "code",
   "execution_count": 7,
   "metadata": {},
   "outputs": [
    {
     "name": "stdout",
     "output_type": "stream",
     "text": [
      "upload: ../../../../../../../data-tst/home/voa/projects/k8s-model/zephyr-7b-beta/all_results.json to s3://k8s-model-zephyr/llm/deployment/zephyr-7b-beta/all_results.json\n",
      "upload: ../../../../../../../data-tst/home/voa/projects/k8s-model/zephyr-7b-beta/added_tokens.json to s3://k8s-model-zephyr/llm/deployment/zephyr-7b-beta/added_tokens.json\n",
      "upload: ../../../../../../../data-tst/home/voa/projects/k8s-model/zephyr-7b-beta/.gitattributes to s3://k8s-model-zephyr/llm/deployment/zephyr-7b-beta/.gitattributes\n",
      "upload: ../../../../../../../data-tst/home/voa/projects/k8s-model/zephyr-7b-beta/generation_config.json to s3://k8s-model-zephyr/llm/deployment/zephyr-7b-beta/generation_config.json\n",
      "upload: ../../../../../../../data-tst/home/voa/projects/k8s-model/zephyr-7b-beta/config.json to s3://k8s-model-zephyr/llm/deployment/zephyr-7b-beta/config.json\n",
      "upload: ../../../../../../../data-tst/home/voa/projects/k8s-model/zephyr-7b-beta/eval_results.json to s3://k8s-model-zephyr/llm/deployment/zephyr-7b-beta/eval_results.json\n",
      "upload: ../../../../../../../data-tst/home/voa/projects/k8s-model/zephyr-7b-beta/README.md to s3://k8s-model-zephyr/llm/deployment/zephyr-7b-beta/README.md\n",
      "upload: ../../../../../../../data-tst/home/voa/projects/k8s-model/zephyr-7b-beta/model-00002-of-00008.safetensors to s3://k8s-model-zephyr/llm/deployment/zephyr-7b-beta/model-00002-of-00008.safetensors\n",
      "upload: ../../../../../../../data-tst/home/voa/projects/k8s-model/zephyr-7b-beta/model-00001-of-00008.safetensors to s3://k8s-model-zephyr/llm/deployment/zephyr-7b-beta/model-00001-of-00008.safetensors\n",
      "upload: ../../../../../../../data-tst/home/voa/projects/k8s-model/zephyr-7b-beta/model-00005-of-00008.safetensors to s3://k8s-model-zephyr/llm/deployment/zephyr-7b-beta/model-00005-of-00008.safetensors\n",
      "upload: ../../../../../../../data-tst/home/voa/projects/k8s-model/zephyr-7b-beta/model.safetensors.index.json to s3://k8s-model-zephyr/llm/deployment/zephyr-7b-beta/model.safetensors.index.json\n",
      "upload: ../../../../../../../data-tst/home/voa/projects/k8s-model/zephyr-7b-beta/model-00004-of-00008.safetensors to s3://k8s-model-zephyr/llm/deployment/zephyr-7b-beta/model-00004-of-00008.safetensors\n",
      "upload: ../../../../../../../data-tst/home/voa/projects/k8s-model/zephyr-7b-beta/special_tokens_map.json to s3://k8s-model-zephyr/llm/deployment/zephyr-7b-beta/special_tokens_map.json\n",
      "upload: ../../../../../../../data-tst/home/voa/projects/k8s-model/zephyr-7b-beta/tokenizer.json to s3://k8s-model-zephyr/llm/deployment/zephyr-7b-beta/tokenizer.json\n",
      "upload: ../../../../../../../data-tst/home/voa/projects/k8s-model/zephyr-7b-beta/tokenizer.model to s3://k8s-model-zephyr/llm/deployment/zephyr-7b-beta/tokenizer.model\n",
      "upload: ../../../../../../../data-tst/home/voa/projects/k8s-model/zephyr-7b-beta/tokenizer_config.json to s3://k8s-model-zephyr/llm/deployment/zephyr-7b-beta/tokenizer_config.json\n",
      "upload: ../../../../../../../data-tst/home/voa/projects/k8s-model/zephyr-7b-beta/train_results.json to s3://k8s-model-zephyr/llm/deployment/zephyr-7b-beta/train_results.json\n",
      "upload: ../../../../../../../data-tst/home/voa/projects/k8s-model/zephyr-7b-beta/training_args.bin to s3://k8s-model-zephyr/llm/deployment/zephyr-7b-beta/training_args.bin\n",
      "upload: ../../../../../../../data-tst/home/voa/projects/k8s-model/zephyr-7b-beta/model-00003-of-00008.safetensors to s3://k8s-model-zephyr/llm/deployment/zephyr-7b-beta/model-00003-of-00008.safetensors\n",
      "upload: ../../../../../../../data-tst/home/voa/projects/k8s-model/zephyr-7b-beta/trainer_state.json to s3://k8s-model-zephyr/llm/deployment/zephyr-7b-beta/trainer_state.json\n",
      "upload: ../../../../../../../data-tst/home/voa/projects/k8s-model/zephyr-7b-beta/model-00008-of-00008.safetensors to s3://k8s-model-zephyr/llm/deployment/zephyr-7b-beta/model-00008-of-00008.safetensors\n",
      "upload: ../../../../../../../data-tst/home/voa/projects/k8s-model/zephyr-7b-beta/model-00006-of-00008.safetensors to s3://k8s-model-zephyr/llm/deployment/zephyr-7b-beta/model-00006-of-00008.safetensors\n",
      "upload: ../../../../../../../data-tst/home/voa/projects/k8s-model/zephyr-7b-beta/model-00007-of-00008.safetensors to s3://k8s-model-zephyr/llm/deployment/zephyr-7b-beta/model-00007-of-00008.safetensors\n"
     ]
    }
   ],
   "source": [
    "# copy HF model to s3 bucket\n",
    "\n",
    "!aws s3 sync $LOCAL_DIRECTORY/$HF_MODEL_NAME s3://$S3_BUCKET_NAME/llm/deployment/$HF_MODEL_NAME --exclude \"*.git/*\""
   ]
  },
  {
   "cell_type": "markdown",
   "metadata": {},
   "source": [
    "## Preparing cluster.dev stack variables\n",
    "In cluster.dev folder there are 4 files:\n",
    "- `project.yaml` to define some global variables like region\n",
    "- `backend.yaml` required to set some state s3 bucket for cluster.dev and TF states\n",
    "- `stack-eks.yaml` file describing values for EKS cluster configuration with required node groups with GPU support, GPU types\n",
    "- `stack-model.yaml` variables required to deploy model into EKS cluster\n"
   ]
  },
  {
   "cell_type": "code",
   "execution_count": null,
   "metadata": {},
   "outputs": [],
   "source": [
    "# bootstrap cluster\n",
    "!cd cluster.dev\n",
    "!cdev apply"
   ]
  },
  {
   "cell_type": "code",
   "execution_count": null,
   "metadata": {},
   "outputs": [],
   "source": [
    "# install nvidia drivers\n",
    "!kubectl apply -f https://raw.githubusercontent.com/NVIDIA/k8s-device-plugin/main/nvidia-device-plugin.yml"
   ]
  },
  {
   "cell_type": "code",
   "execution_count": null,
   "metadata": {},
   "outputs": [],
   "source": [
    "# deploy model files\n",
    "!kubectl apply -f ../kubernetes/model/deployment.yaml\n",
    "\n",
    "# port forward model service\n",
    "!kubectl port-forward svc/zephyr-7b-alpha-service  8081:8080\n",
    "\n",
    "!curl 127.0.0.1:8081/generate \\\n",
    "    -X POST \\\n",
    "    -d '{\"inputs\":\"Continue funny story: John decide to stick finger into outlet\",\"parameters\":{\"max_new_tokens\":2000}}' \\\n",
    "    -H 'Content-Type: application/json'"
   ]
  }
 ],
 "metadata": {
  "kernelspec": {
   "display_name": "Python 3",
   "language": "python",
   "name": "python3"
  },
  "language_info": {
   "codemirror_mode": {
    "name": "ipython",
    "version": 3
   },
   "file_extension": ".py",
   "mimetype": "text/x-python",
   "name": "python",
   "nbconvert_exporter": "python",
   "pygments_lexer": "ipython3",
   "version": "3.10.12"
  }
 },
 "nbformat": 4,
 "nbformat_minor": 2
}
